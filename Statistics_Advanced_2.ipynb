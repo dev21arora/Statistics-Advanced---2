{
  "nbformat": 4,
  "nbformat_minor": 0,
  "metadata": {
    "colab": {
      "provenance": []
    },
    "kernelspec": {
      "name": "python3",
      "display_name": "Python 3"
    },
    "language_info": {
      "name": "python"
    }
  },
  "cells": [
    {
      "cell_type": "markdown",
      "source": [
        "#Statistics Advanced - 2"
      ],
      "metadata": {
        "id": "D2TRub_bE0vR"
      }
    },
    {
      "cell_type": "markdown",
      "source": [
        "Q1: What is hypothesis testing in statistics?\n",
        "\n",
        "Answer:\n",
        "Hypothesis testing is a statistical method used to make decisions or inferences about a population based on sample data. It involves formulating two competing statements (null and alternative hypotheses), analyzing data through test statistics, and determining whether there is enough evidence to reject the null hypothesis at a chosen significance level."
      ],
      "metadata": {
        "id": "vFZuQdOOHcjU"
      }
    },
    {
      "cell_type": "markdown",
      "source": [
        "Q2: What is the null hypothesis, and how does it differ from the alternative hypothesis?\n",
        "\n",
        "Answer:\n",
        "\n",
        "Null Hypothesis (H₀): Assumes no effect, no difference, or status quo in the population (e.g., the mean = 50).\n",
        "\n",
        "Alternative Hypothesis (H₁): Opposes H₀ and suggests an effect or difference exists (e.g., the mean ≠ 50).\n",
        "The null is tested directly, while the alternative is accepted if there is sufficient evidence against H₀.\n"
      ],
      "metadata": {
        "id": "qLM--MTlHc8G"
      }
    },
    {
      "cell_type": "markdown",
      "source": [
        "Q3: Explain the significance level in hypothesis testing and its role in deciding the outcome of a test.\n",
        "\n",
        "Answer:\n",
        "The significance level (α) is the threshold probability of rejecting the null hypothesis when it is actually true. Commonly set at 0.05 (5%), it defines how much risk of a false positive (Type I error) is acceptable. If the p-value ≤ α, we reject H₀; otherwise, we fail to reject it."
      ],
      "metadata": {
        "id": "pVBST0OYHc-q"
      }
    },
    {
      "cell_type": "markdown",
      "source": [
        "Q4: What are Type I and Type II errors? Give examples of each.\n",
        "\n",
        "Answer:\n",
        "\n",
        "Type I Error (False Positive): Rejecting H₀ when it is true.\n",
        "Example: Concluding a new drug is effective when it is not.\n",
        "\n",
        "Type II Error (False Negative): Failing to reject H₀ when it is false.\n",
        "Example: Concluding a new drug is ineffective when it actually works."
      ],
      "metadata": {
        "id": "kVmcojT8HdBb"
      }
    },
    {
      "cell_type": "markdown",
      "source": [
        "Q5: What is the difference between a Z-test and a T-test? Explain when to use each.\n",
        "\n",
        "Answer:\n",
        "\n",
        "Z-test: Used when population variance is known and sample size is large (n > 30).\n",
        "\n",
        "T-test: Used when population variance is unknown and sample size is small (n ≤ 30).\n",
        "Both compare sample means with population means, but the T-test accounts for extra variability."
      ],
      "metadata": {
        "id": "QbYHgnKDHdEP"
      }
    },
    {
      "cell_type": "markdown",
      "source": [
        "Q6:Write a Python program to generate a binomial distribution with n=10 and\n",
        "p=0.5, then plot its histogram.\n"
      ],
      "metadata": {
        "id": "fzcQAP_FHdGx"
      }
    },
    {
      "cell_type": "code",
      "source": [
        "import numpy as np\n",
        "import matplotlib.pyplot as plt\n",
        "\n",
        "# Generate binomial distribution\n",
        "n, p, size = 10, 0.5, 1000\n",
        "data = np.random.binomial(n, p, size)\n",
        "\n",
        "# Plot histogram\n",
        "plt.hist(data, bins=range(n+2), edgecolor='black', align='left')\n",
        "plt.title(\"Binomial Distribution (n=10, p=0.5)\")\n",
        "plt.xlabel(\"Number of Successes\")\n",
        "plt.ylabel(\"Frequency\")\n",
        "plt.show()\n"
      ],
      "metadata": {
        "colab": {
          "base_uri": "https://localhost:8080/",
          "height": 472
        },
        "id": "kaNswBupIMuU",
        "outputId": "cc2efa25-7de9-4cab-d5e1-df2e8b31fbf4"
      },
      "execution_count": 1,
      "outputs": [
        {
          "output_type": "display_data",
          "data": {
            "text/plain": [
              "<Figure size 640x480 with 1 Axes>"
            ],
            "image/png": "[encoded data removed]"
          },
          "metadata": {}
        }
      ]
    },
    {
      "cell_type": "markdown",
      "source": [
        "Q7: Implement hypothesis testing using Z-statistics for a sample dataset in\n",
        "Python. Show the Python code and interpret the results.\n",
        "sample_data = [49.1, 50.2, 51.0, 48.7, 50.5, 49.8, 50.3, 50.7, 50.2, 49.6,\n",
        "50.1, 49.9, 50.8, 50.4, 48.9, 50.6, 50.0, 49.7, 50.2, 49.5,\n",
        "50.1, 50.3, 50.4, 50.5, 50.0, 50.7, 49.3, 49.8, 50.2, 50.9,\n",
        "50.3, 50.4, 50.0, 49.7, 50.5, 49.9]\n"
      ],
      "metadata": {
        "id": "wMuDwZStHdI0"
      }
    },
    {
      "cell_type": "code",
      "source": [
        "import numpy as np\n",
        "from scipy import stats\n",
        "\n",
        "# Sample data\n",
        "sample_data = [49.1, 50.2, 51.0, 48.7, 50.5, 49.8, 50.3, 50.7, 50.2, 49.6,\n",
        "               50.1, 49.9, 50.8, 50.4, 48.9, 50.6, 50.0, 49.7, 50.2, 49.5,\n",
        "               50.1, 50.3, 50.4, 50.5, 50.0, 50.7, 49.3, 49.8, 50.2, 50.9,\n",
        "               50.3, 50.4, 50.0, 49.7, 50.5, 49.9]\n",
        "\n",
        "mean = np.mean(sample_data)\n",
        "std = np.std(sample_data, ddof=1)\n",
        "n = len(sample_data)\n",
        "pop_mean = 50\n",
        "\n",
        "# Z statistic\n",
        "z = (mean - pop_mean) / (std/np.sqrt(n))\n",
        "p_value = 2 * (1 - stats.norm.cdf(abs(z)))\n",
        "\n",
        "print(\"Sample Mean:\", mean)\n",
        "print(\"Z-statistic:\", z)\n",
        "print(\"P-value:\", p_value)\n"
      ],
      "metadata": {
        "colab": {
          "base_uri": "https://localhost:8080/"
        },
        "id": "pSYduVU4Ib_L",
        "outputId": "a898cd31-cc83-4220-852e-ef64bc0f6b62"
      },
      "execution_count": 2,
      "outputs": [
        {
          "output_type": "stream",
          "name": "stdout",
          "text": [
            "Sample Mean: 50.08888888888889\n",
            "Z-statistic: 0.9940271559503017\n",
            "P-value: 0.3202096468890012\n"
          ]
        }
      ]
    },
    {
      "cell_type": "markdown",
      "source": [
        "Q8: Write a Python script to simulate data from a normal distribution and\n",
        "calculate the 95% confidence interval for its mean. Plot the data using Matplotlib"
      ],
      "metadata": {
        "id": "FONYE79gHdLL"
      }
    },
    {
      "cell_type": "markdown",
      "source": [
        "import numpy as np\n",
        "import matplotlib.pyplot as plt\n",
        "import scipy.stats as stats\n",
        "\n",
        "# Simulate data\n",
        "data = np.random.normal(loc=100, scale=15, size=1000)\n",
        "\n",
        "# Confidence interval\n",
        "mean = np.mean(data)\n",
        "sem = stats.sem(data)\n",
        "ci = stats.t.interval(0.95, len(data)-1, loc=mean, scale=sem)\n",
        "\n",
        "print(\"Mean:\", mean)\n",
        "print(\"95% Confidence Interval:\", ci)\n",
        "\n",
        "# Plot\n",
        "plt.hist(data, bins=30, edgecolor='black', alpha=0.7)\n",
        "plt.title(\"Normal Distribution with 95% CI\")\n",
        "plt.axvline(ci[0], color='red', linestyle='dashed', label='Lower CI')\n",
        "plt.axvline(ci[1], color='green', linestyle='dashed', label='Upper CI')\n",
        "plt.legend()\n",
        "plt.show()\n"
      ],
      "metadata": {
        "id": "Kmo39ufTHdNd"
      }
    },
    {
      "cell_type": "markdown",
      "source": [
        "Q9: Write a Python function to calculate the Z-scores from a dataset and\n",
        "visualize the standardized data using a histogram. Explain what the Z-scores represent\n",
        "in terms of standard deviations from the mean"
      ],
      "metadata": {
        "id": "R5nQfgw8I2nz"
      }
    },
    {
      "cell_type": "code",
      "execution_count": 3,
      "metadata": {
        "colab": {
          "base_uri": "https://localhost:8080/",
          "height": 507
        },
        "id": "Olz3TUTDCxS-",
        "outputId": "0237127a-e70d-4ac0-9363-ca8784f43c80"
      },
      "outputs": [
        {
          "output_type": "display_data",
          "data": {
            "text/plain": [
              "<Figure size 640x480 with 1 Axes>"
            ],
            "image/png": "[encoded data removed]"
          },
          "metadata": {}
        },
        {
          "output_type": "stream",
          "name": "stdout",
          "text": [
            "First 10 Z-scores: [-0.09733076 -0.46761575 -0.80621677  0.31392486 -0.60352844  0.91789667\n",
            " -0.58264512 -0.86175817 -0.45094671 -0.0324095 ]\n"
          ]
        }
      ],
      "source": [
        "import numpy as np\n",
        "import matplotlib.pyplot as plt\n",
        "from scipy.stats import zscore\n",
        "\n",
        "# Generate dataset\n",
        "data = np.random.normal(50, 5, 100)\n",
        "\n",
        "# Calculate Z-scores\n",
        "z_scores = zscore(data)\n",
        "\n",
        "# Plot\n",
        "plt.hist(z_scores, bins=20, edgecolor='black')\n",
        "plt.title(\"Histogram of Z-scores\")\n",
        "plt.xlabel(\"Z-score\")\n",
        "plt.ylabel(\"Frequency\")\n",
        "plt.show()\n",
        "\n",
        "print(\"First 10 Z-scores:\", z_scores[:10])\n"
      ]
    },
    {
      "cell_type": "code",
      "source": [],
      "metadata": {
        "id": "w0sIwknzJBSP"
      },
      "execution_count": null,
      "outputs": []
    }
  ]
}